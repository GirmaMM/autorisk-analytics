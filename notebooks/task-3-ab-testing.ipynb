{
 "cells": [
  {
   "cell_type": "markdown",
   "id": "151d13ef",
   "metadata": {},
   "source": [
    "## A/B Hypothesis Testing\n",
    "The objective of Task 3 is to conduct A/B hypothesis testing. The goal is to test the following null hypotheses:\n",
    "\n",
    "1. Hypothesis Testing Across Provinces.\n",
    "2. Hypothesis Testing between Gender."
   ]
  },
  {
   "cell_type": "markdown",
   "id": "cdc61606",
   "metadata": {},
   "source": [
    "### **Load Libraries, and Dataset**"
   ]
  },
  {
   "cell_type": "code",
   "execution_count": 1,
   "id": "026202fd",
   "metadata": {},
   "outputs": [
    {
     "name": "stderr",
     "output_type": "stream",
     "text": [
      "C:\\Users\\girma\\AppData\\Local\\Temp\\ipykernel_20596\\2495312143.py:9: DtypeWarning: Columns (29) have mixed types. Specify dtype option on import or set low_memory=False.\n",
      "  clean = pd.read_csv(\"../data/interim/cleaned_insurance_data.csv\")\n"
     ]
    }
   ],
   "source": [
    "import os\n",
    "import sys\n",
    "import numpy as np\n",
    "import pandas as pd\n",
    "import seaborn as sns\n",
    "import matplotlib.pyplot as plt\n",
    "from scipy.stats import chi2_contingency\n",
    "\n",
    "clean = pd.read_csv(\"../data/interim/cleaned_insurance_data.csv\")\n"
   ]
  },
  {
   "cell_type": "markdown",
   "id": "aed6fd52",
   "metadata": {},
   "source": [
    "### **Hypothesis Testing: Across Providences**\n",
    "\n",
    "For categorical risk comparisons (Claim Frequency):\n",
    "\n",
    "✅ Chi-Squared Test"
   ]
  },
  {
   "cell_type": "code",
   "execution_count": 7,
   "id": "f3068b9f",
   "metadata": {},
   "outputs": [
    {
     "name": "stdout",
     "output_type": "stream",
     "text": [
      "Chi-Squared p-value: 5.925510718204678e-19\n"
     ]
    }
   ],
   "source": [
    "from scipy.stats import chi2_contingency\n",
    "\n",
    "# Create contingency table for claims by province\n",
    "contingency_table = pd.crosstab(clean['Province'], clean['TotalClaims'] > 0)\n",
    "chi2_stat, p_value, _, _ = chi2_contingency(contingency_table)\n",
    "\n",
    "print(f\"Chi-Squared p-value: {p_value}\")"
   ]
  },
  {
   "cell_type": "markdown",
   "id": "80b7b60b",
   "metadata": {},
   "source": [
    "- Chi-Squared Statistic: A high test statistic suggests observed differences are unlikely due to random chance.\n",
    "- p-value = 5.93e-19  → This is extremely low, far below the conventional threshold of 0.05.\n",
    "- Conclusion: We strongly reject the null hypothesis (H₀: There are no risk differences across provinces).\n",
    "- Business Impact: Provinces do exhibit significantly different claim frequencies, and ACIS should adjust its pricing & underwriting strategies accordingly."
   ]
  },
  {
   "cell_type": "markdown",
   "id": "9dc8357b",
   "metadata": {},
   "source": [
    "One-Way ANOVA for Provinces\n",
    "\n",
    "\n",
    "\n",
    "✅ F-Test(One way ANOVA)"
   ]
  },
  {
   "cell_type": "code",
   "execution_count": 8,
   "id": "2f88fd33",
   "metadata": {},
   "outputs": [
    {
     "name": "stdout",
     "output_type": "stream",
     "text": [
      "ANOVA Test for Province-Based Claim Differences:\n",
      "Statistic: 5.849413762407606, p-value: 1.6782057588675903e-07\n"
     ]
    }
   ],
   "source": [
    "import scipy.stats as stats\n",
    "\n",
    "# Select relevant metric (e.g., Claim Severity)\n",
    "province_groups = [clean.loc[clean['Province'] == p, 'TotalClaims'] for p in clean['Province'].unique()]\n",
    "\n",
    "# Conduct one-way ANOVA test\n",
    "anova_stat, p_value = stats.f_oneway(*province_groups)\n",
    "\n",
    "print(f\"ANOVA Test for Province-Based Claim Differences:\\nStatistic: {anova_stat}, p-value: {p_value}\")"
   ]
  },
  {
   "cell_type": "markdown",
   "id": "b67cee80",
   "metadata": {},
   "source": [
    "This ANOVA test result tells us that there is a statistically significant difference in claim behavior across provinces.\n",
    "Interpretation\n",
    "- Statistic = 5.85 → Indicates that there is observable variation in claim amounts between provinces.\n",
    "- p-value = 1.67e-07 (0.0000001678) → This is far below the threshold of 0.05, meaning we strongly reject the null hypothesis (H₀: There are no risk differences across provinces).\n",
    "- What this means: At least one province has a significantly different claim severity or frequency compared to others."
   ]
  },
  {
   "cell_type": "markdown",
   "id": "a0db0891",
   "metadata": {},
   "source": [
    "### **Hypothesis Testing: Between Gender**\n",
    "\n",
    "### **Hypothesis Statement**\n",
    "- **Null Hypothesis (H₀):** There are no significant risk differences between Men and Women.\n",
    "- **Alternative Hypothesis (H₁):** There **is** a statistically significant difference in claim risk based on gender.\n",
    "\n",
    "### **Statistical Test Selection**\n",
    "Since gender is **categorical**, we use:\n",
    "- **Chi-Squared Test** for Claim Frequency (categorical)\n",
    "- **T-Test** for Claim Severity (numeric)\n"
   ]
  },
  {
   "cell_type": "code",
   "execution_count": 10,
   "id": "1f9674cc",
   "metadata": {},
   "outputs": [
    {
     "name": "stdout",
     "output_type": "stream",
     "text": [
      "Chi-Squared p-value: 0.003993781054238153\n"
     ]
    }
   ],
   "source": [
    "# Create contingency table for claim frequency by gender\n",
    "contingency_table = pd.crosstab(clean['Gender'], clean['TotalClaims'] > 0)\n",
    "chi2_stat, p_value, _, _ = chi2_contingency(contingency_table)\n",
    "\n",
    "print(f\"Chi-Squared p-value: {p_value}\")"
   ]
  },
  {
   "cell_type": "markdown",
   "id": "13efb4e9",
   "metadata": {},
   "source": [
    "\n",
    "### **Interpretation of the Chi-Squared Test for Gender-Based Claim Frequency**\n",
    "This test evaluates whether **men and women file claims at significantly different rates**.\n",
    "\n",
    "#### **Key Results**\n",
    "- **Chi-Squared Statistic:** Indicates observed differences in claim frequency across genders.\n",
    "- **p-value = 0.00399** → This is **below the 0.05 threshold**, meaning the difference **is statistically significant**.\n",
    "- **Conclusion:** We **reject the null hypothesis** (`H₀: There are no significant risk differences between Men and Women`).\n",
    "- **Business Impact:** Gender **does** influence claim frequency, and ACIS might need to **review underwriting policies and pricing structures** accordingly."
   ]
  },
  {
   "cell_type": "markdown",
   "id": "e6a3a362",
   "metadata": {},
   "source": []
  },
  {
   "cell_type": "markdown",
   "id": "b4fb4692",
   "metadata": {},
   "source": [
    "### **2️⃣ Claim Severity Analysis (T-Test)**\n",
    "This test checks whether **men and women have different claim amounts**."
   ]
  },
  {
   "cell_type": "code",
   "execution_count": 11,
   "id": "ec248ef6",
   "metadata": {},
   "outputs": [
    {
     "name": "stdout",
     "output_type": "stream",
     "text": [
      "T-Test p-value: 0.7669656471629474\n"
     ]
    }
   ],
   "source": [
    "from scipy.stats import ttest_ind\n",
    "\n",
    "severity_men = clean.loc[clean['Gender'] == 'Male', 'TotalClaims']\n",
    "severity_women = clean.loc[clean['Gender'] == 'Female', 'TotalClaims']\n",
    "\n",
    "t_stat, p_value = ttest_ind(severity_men, severity_women, equal_var=False)\n",
    "print(f\"T-Test p-value: {p_value}\")"
   ]
  },
  {
   "cell_type": "markdown",
   "id": "1732fe3e",
   "metadata": {},
   "source": [
    "### **Interpretation of the T-Test for Gender-Based Claim Severity**\n",
    "This test evaluates **whether men and women have different average claim amounts** when a claim occurs.\n",
    "\n",
    "#### **Key Results**\n",
    "- **p-value = 0.76697** → **Much higher than the significance threshold (0.05).**\n",
    "- **Conclusion:** We **fail to reject the null hypothesis** (`H₀: There are no significant risk differences between Men and Women in claim severity`).\n",
    "- **Business Impact:** Gender **does not significantly affect** the severity of claims. Pricing and risk adjustments **should not differentiate based on gender alone**."
   ]
  }
 ],
 "metadata": {
  "kernelspec": {
   "display_name": "venv",
   "language": "python",
   "name": "python3"
  },
  "language_info": {
   "codemirror_mode": {
    "name": "ipython",
    "version": 3
   },
   "file_extension": ".py",
   "mimetype": "text/x-python",
   "name": "python",
   "nbconvert_exporter": "python",
   "pygments_lexer": "ipython3",
   "version": "3.12.4"
  }
 },
 "nbformat": 4,
 "nbformat_minor": 5
}
